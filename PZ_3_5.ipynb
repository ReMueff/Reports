{
  "nbformat": 4,
  "nbformat_minor": 0,
  "metadata": {
    "colab": {
      "name": "PZ_3-5.ipynb",
      "provenance": [],
      "authorship_tag": "ABX9TyMeAvChJFpmftFmKfzqP7lN",
      "include_colab_link": true
    },
    "kernelspec": {
      "name": "python3",
      "display_name": "Python 3"
    },
    "language_info": {
      "name": "python"
    }
  },
  "cells": [
    {
      "cell_type": "markdown",
      "metadata": {
        "id": "view-in-github",
        "colab_type": "text"
      },
      "source": [
        "<a href=\"https://colab.research.google.com/github/ReMueff/Reports/blob/main/PZ_3_5.ipynb\" target=\"_parent\"><img src=\"https://colab.research.google.com/assets/colab-badge.svg\" alt=\"Open In Colab\"/></a>"
      ]
    },
    {
      "cell_type": "markdown",
      "source": [
        "PZ_3"
      ],
      "metadata": {
        "id": "CUw8pXtJmUn5"
      }
    },
    {
      "cell_type": "code",
      "execution_count": null,
      "metadata": {
        "id": "4kg0y5BemTtX"
      },
      "outputs": [],
      "source": [
        "# Дано целое число A. Проверить истинность высказывания: \"Число A является положительным\"\n",
        "\n",
        "a = input('Введите число A:')   # ввод числа\n",
        "while type(a) != int:   # обработка исключений\n",
        "    try:\n",
        "        a = int(a)\n",
        "    except ValueError:\n",
        "        print('Введите число заново!')\n",
        "        a = input('Введите число A:')\n",
        "if a > 0:   # проверка истинности высказывания\n",
        "    print('Число является положительным!')\n",
        "else:\n",
        "    print('Число не является положительным! Или является 0')"
      ]
    },
    {
      "cell_type": "markdown",
      "source": [
        "PZ_4"
      ],
      "metadata": {
        "id": "NaOppwQ0mYpf"
      }
    },
    {
      "cell_type": "code",
      "source": [
        "# Даны два целых числа A и B (A < B)\n",
        "# Вывести в порядке возрастания все целые числа,\n",
        "# расположенные между A и B (включая сами числа A и B), а также количество N этих чисел\n",
        "\n",
        "a, b = input('Введите первое число:'), input('Введите второе число:')\n",
        "while type(a) != int:   # обработка исключений\n",
        "    try:\n",
        "        a = int(a)\n",
        "    except ValueError:\n",
        "        print('Введите число заново!')\n",
        "        a = input('Введите первое число:')\n",
        "while type(b) != int:   # обработка исключений\n",
        "    try:\n",
        "        b = int(b)\n",
        "    except ValueError:\n",
        "        print('Введите число заново!')\n",
        "        b = input('Введите второе число:')\n",
        "k = 0\n",
        "while a <= b:   # выполнение расчётов\n",
        "    print(a)\n",
        "    a = a + 1\n",
        "    k = k + 1\n",
        "print('Количество чисел:', k)   # вывод результата пользователю"
      ],
      "metadata": {
        "id": "we6SmYwRmZFv"
      },
      "execution_count": null,
      "outputs": []
    },
    {
      "cell_type": "markdown",
      "source": [
        "PZ_5"
      ],
      "metadata": {
        "id": "B1sSeYz7mZcJ"
      }
    },
    {
      "cell_type": "code",
      "source": [
        "# Составить функцию решения задачи: из заданного числа вычли сумму его цифр. Из\n",
        "# результата вновь вычли сумму его цифр и т. д. Через сколько таких действий получится\n",
        "# нуль?\n",
        "a = input('Введите ваше число: ')\n",
        "while type(a) != int:   # обработка исключений\n",
        "    try:\n",
        "        a = int(a)\n",
        "        if a < 0:\n",
        "            print('Введите число заново!')\n",
        "            a = input('Введите ваше число:')\n",
        "    except ValueError:\n",
        "        print('Введите число заново!')\n",
        "        a = input('Введите ваше число:')\n",
        "\n",
        "\n",
        "def vichty(num):   # объявление функции\n",
        "    count = 0\n",
        "    while num > 0:\n",
        "        p = num % 10\n",
        "        count += p\n",
        "        num //= 10\n",
        "    return count\n",
        "\n",
        "\n",
        "k = 0\n",
        "while a > 0:   # проведение расчётов\n",
        "    cont = vichty(a)\n",
        "    a -= cont\n",
        "    k += 1\n",
        "    print(cont)\n",
        "print('Результат: ', k)"
      ],
      "metadata": {
        "id": "wVrQTYNAmZrj"
      },
      "execution_count": null,
      "outputs": []
    }
  ]
}